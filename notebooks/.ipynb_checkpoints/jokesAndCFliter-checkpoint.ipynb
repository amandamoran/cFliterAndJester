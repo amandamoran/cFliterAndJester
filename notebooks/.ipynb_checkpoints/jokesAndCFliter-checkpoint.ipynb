{
 "cells": [
  {
   "cell_type": "markdown",
   "metadata": {},
   "source": [
    "# Collaborative Filtering and Comedy! \n",
    "------\n",
    "<img src=\"images/seinfeld.jpg\" width=\"400\" height=\"400\">\n",
    "\n",
    "## A demo using DataStax Enterprise Analytics, Apache Cassandra, Apache Spark, Python, Jupyter Notebooks, Spark MlLib, and KMeans \n",
    "\n",
    "#### Real Dataset: http://eigentaste.berkeley.edu/dataset/"
   ]
  },
  {
   "cell_type": "markdown",
   "metadata": {},
   "source": [
    "## Import python packages -- all are required\n",
    "* Need to tell Jupyter to display with %matplotlib otherwise you will generate the plot but not display it"
   ]
  },
  {
   "cell_type": "code",
   "execution_count": 2,
   "metadata": {},
   "outputs": [],
   "source": [
    "%matplotlib inline\n",
    "import matplotlib.pyplot as plt"
   ]
  },
  {
   "cell_type": "code",
   "execution_count": 3,
   "metadata": {},
   "outputs": [],
   "source": [
    "import os\n",
    "os.environ['PYSPARK_SUBMIT_ARGS'] = '--packages com.datastax.spark:spark-cassandra-connector_2.11:2.3.2 pyspark-shell'"
   ]
  },
  {
   "cell_type": "code",
   "execution_count": 68,
   "metadata": {},
   "outputs": [],
   "source": [
    "import pandas\n",
    "import cassandra\n",
    "import pyspark\n",
    "import re\n",
    "import os\n",
    "import matplotlib.pyplot as plt\n",
    "from IPython.display import IFrame\n",
    "from IPython.display import display, Markdown\n",
    "from pyspark.sql import SparkSession\n",
    "from pyspark.ml.evaluation import RegressionEvaluator\n",
    "from pyspark.ml.recommendation import ALS\n",
    "from pyspark.sql import Row"
   ]
  },
  {
   "cell_type": "markdown",
   "metadata": {},
   "source": [
    "#### Helper function to have nicer formatting of Spark DataFrames"
   ]
  },
  {
   "cell_type": "code",
   "execution_count": 47,
   "metadata": {},
   "outputs": [],
   "source": [
    "#Helper for pretty formatting for Spark DataFrames\n",
    "def showDF(df, limitRows =  10, truncate = False):\n",
    "    if(truncate):\n",
    "        pandas.set_option('display.max_colwidth', 100)\n",
    "    else:\n",
    "        pandas.set_option('display.max_colwidth', -1)\n",
    "    pandas.set_option('display.max_rows', limitRows)\n",
    "    display(df.limit(limitRows).toPandas())\n",
    "    pandas.reset_option('display.max_rows')"
   ]
  },
  {
   "cell_type": "markdown",
   "metadata": {},
   "source": [
    "# Apache Cassandra \n",
    "<img src=\"images/cassandralogo.png\" width=\"200\" height=\"200\">"
   ]
  },
  {
   "cell_type": "markdown",
   "metadata": {},
   "source": [
    "## Creating Tables and Loading Tables"
   ]
  },
  {
   "cell_type": "markdown",
   "metadata": {},
   "source": [
    "## Connect to Apache Cassandra Local Instance"
   ]
  },
  {
   "cell_type": "code",
   "execution_count": 6,
   "metadata": {},
   "outputs": [],
   "source": [
    "from cassandra.cluster import Cluster\n",
    "\n",
    "cluster = Cluster(['127.0.01'])\n",
    "session = cluster.connect()"
   ]
  },
  {
   "cell_type": "markdown",
   "metadata": {},
   "source": [
    "### Create Demo Keyspace "
   ]
  },
  {
   "cell_type": "code",
   "execution_count": 7,
   "metadata": {},
   "outputs": [
    {
     "data": {
      "text/plain": [
       "<cassandra.cluster.ResultSet at 0x120416ba8>"
      ]
     },
     "execution_count": 7,
     "metadata": {},
     "output_type": "execute_result"
    }
   ],
   "source": [
    "session.execute(\"\"\"\n",
    "    CREATE KEYSPACE IF NOT EXISTS jokes \n",
    "    WITH REPLICATION = \n",
    "    { 'class' : 'SimpleStrategy', 'replication_factor' : 1 }\"\"\"\n",
    ")"
   ]
  },
  {
   "cell_type": "markdown",
   "metadata": {},
   "source": [
    "### Set keyspace "
   ]
  },
  {
   "cell_type": "code",
   "execution_count": 8,
   "metadata": {},
   "outputs": [],
   "source": [
    "session.set_keyspace('jokes')"
   ]
  },
  {
   "cell_type": "markdown",
   "metadata": {},
   "source": [
    "### Create table called wine. Our PRIMARY will be a unique key (userid) we generate for each row. This will result in an even distribution of the data but we will have to utilize that PRIMARY KEY in our WHERE clause in any of our CQL queries. "
   ]
  },
  {
   "cell_type": "code",
   "execution_count": 56,
   "metadata": {},
   "outputs": [
    {
     "data": {
      "text/plain": [
       "<cassandra.cluster.ResultSet at 0x12124d400>"
      ]
     },
     "execution_count": 56,
     "metadata": {},
     "output_type": "execute_result"
    }
   ],
   "source": [
    "query = \"CREATE TABLE IF NOT EXISTS jokes_table1 \\\n",
    "                                    (userid int, jokeid int, rating float, \\\n",
    "                                     PRIMARY KEY (userid, jokeid))\"\n",
    "session.execute(query)"
   ]
  },
  {
   "cell_type": "markdown",
   "metadata": {},
   "source": [
    "### Load Joke Dataset\n",
    "<img src=\"images/laughing.gif\" width=\"300\" height=\"300\">"
   ]
  },
  {
   "cell_type": "markdown",
   "metadata": {},
   "source": [
    "### Load Jokes dataset from CSV file (jester-data-1.csv)\n",
    "* No clean up was requried! How nice :)\n",
    "\n",
    "#### Insert all the Joke Rating Data into the Apache Cassandra table `jokes_table`"
   ]
  },
  {
   "cell_type": "code",
   "execution_count": 57,
   "metadata": {},
   "outputs": [],
   "source": [
    "fileName = 'data/jester_ratings3.csv'\n",
    "input_file = open(fileName, 'r')\n",
    "\n",
    "for line in input_file:\n",
    "    jokeRow = line.split(',')\n",
    "    query = \"INSERT INTO jokes_table1 (userid, jokeid, rating)\"\n",
    "    \n",
    "    query = query + \"VALUES (%s, %s, %s)\"\n",
    "    \n",
    "    session.execute(query, (int(jokeRow[0]), int(jokeRow[1]) , float(jokeRow[2]) ))"
   ]
  },
  {
   "cell_type": "markdown",
   "metadata": {},
   "source": [
    "#### Do a select * on joke_table WHERE wineid = x to verify that data was loaded into the table"
   ]
  },
  {
   "cell_type": "code",
   "execution_count": 70,
   "metadata": {
    "scrolled": true
   },
   "outputs": [
    {
     "name": "stdout",
     "output_type": "stream",
     "text": [
      "100 5 -0.875\n",
      "100 7 9.906000137329102\n",
      "100 8 -0.843999981880188\n",
      "100 13 8.937999725341797\n",
      "100 15 -0.968999981880188\n",
      "100 16 -9.75\n",
      "100 17 9.593999862670898\n"
     ]
    }
   ],
   "source": [
    "query = 'SELECT * FROM jokes_table1 WHERE userid = 100'\n",
    "rows = session.execute(query)\n",
    "for row in rows:\n",
    "    print (row.userid, row.jokeid, row.rating)"
   ]
  },
  {
   "cell_type": "markdown",
   "metadata": {},
   "source": [
    "## Machine Learning with Apache Spark\n",
    "<img src=\"images/sparklogo.png\" width=\"150\" height=\"200\">"
   ]
  },
  {
   "cell_type": "markdown",
   "metadata": {},
   "source": [
    "### Finally time for Apache Spark! "
   ]
  },
  {
   "cell_type": "markdown",
   "metadata": {},
   "source": [
    "#### Create a spark session that is connected to Cassandra. From there load each table into a Spark Dataframe and take a count of the number of rows in each."
   ]
  },
  {
   "cell_type": "code",
   "execution_count": 59,
   "metadata": {},
   "outputs": [
    {
     "name": "stdout",
     "output_type": "stream",
     "text": [
      "Table Row Count: \n",
      "10000\n"
     ]
    }
   ],
   "source": [
    "spark = SparkSession.builder.appName('demo').master(\"local\").getOrCreate()\n",
    "\n",
    "jokeTable = spark.read.format(\"org.apache.spark.sql.cassandra\").options(table=\"jokes_table1\", keyspace=\"jokes\").load()\n",
    "\n",
    "print (\"Table Row Count: \")\n",
    "print (jokeTable.count())"
   ]
  },
  {
   "cell_type": "code",
   "execution_count": 60,
   "metadata": {},
   "outputs": [
    {
     "data": {
      "text/html": [
       "<div>\n",
       "<style scoped>\n",
       "    .dataframe tbody tr th:only-of-type {\n",
       "        vertical-align: middle;\n",
       "    }\n",
       "\n",
       "    .dataframe tbody tr th {\n",
       "        vertical-align: top;\n",
       "    }\n",
       "\n",
       "    .dataframe thead th {\n",
       "        text-align: right;\n",
       "    }\n",
       "</style>\n",
       "<table border=\"1\" class=\"dataframe\">\n",
       "  <thead>\n",
       "    <tr style=\"text-align: right;\">\n",
       "      <th></th>\n",
       "      <th>userid</th>\n",
       "      <th>jokeid</th>\n",
       "      <th>rating</th>\n",
       "    </tr>\n",
       "  </thead>\n",
       "  <tbody>\n",
       "    <tr>\n",
       "      <th>0</th>\n",
       "      <td>218</td>\n",
       "      <td>5</td>\n",
       "      <td>9.531</td>\n",
       "    </tr>\n",
       "    <tr>\n",
       "      <th>1</th>\n",
       "      <td>218</td>\n",
       "      <td>7</td>\n",
       "      <td>-0.594</td>\n",
       "    </tr>\n",
       "    <tr>\n",
       "      <th>2</th>\n",
       "      <td>218</td>\n",
       "      <td>8</td>\n",
       "      <td>9.875</td>\n",
       "    </tr>\n",
       "    <tr>\n",
       "      <th>3</th>\n",
       "      <td>4</td>\n",
       "      <td>5</td>\n",
       "      <td>-5.812</td>\n",
       "    </tr>\n",
       "    <tr>\n",
       "      <th>4</th>\n",
       "      <td>4</td>\n",
       "      <td>7</td>\n",
       "      <td>-4.500</td>\n",
       "    </tr>\n",
       "    <tr>\n",
       "      <th>5</th>\n",
       "      <td>4</td>\n",
       "      <td>8</td>\n",
       "      <td>-4.906</td>\n",
       "    </tr>\n",
       "    <tr>\n",
       "      <th>6</th>\n",
       "      <td>18</td>\n",
       "      <td>5</td>\n",
       "      <td>-0.438</td>\n",
       "    </tr>\n",
       "    <tr>\n",
       "      <th>7</th>\n",
       "      <td>18</td>\n",
       "      <td>7</td>\n",
       "      <td>-7.344</td>\n",
       "    </tr>\n",
       "    <tr>\n",
       "      <th>8</th>\n",
       "      <td>18</td>\n",
       "      <td>8</td>\n",
       "      <td>2.375</td>\n",
       "    </tr>\n",
       "    <tr>\n",
       "      <th>9</th>\n",
       "      <td>18</td>\n",
       "      <td>13</td>\n",
       "      <td>-2.281</td>\n",
       "    </tr>\n",
       "  </tbody>\n",
       "</table>\n",
       "</div>"
      ],
      "text/plain": [
       "   userid  jokeid  rating\n",
       "0  218     5       9.531 \n",
       "1  218     7      -0.594 \n",
       "2  218     8       9.875 \n",
       "3  4       5      -5.812 \n",
       "4  4       7      -4.500 \n",
       "5  4       8      -4.906 \n",
       "6  18      5      -0.438 \n",
       "7  18      7      -7.344 \n",
       "8  18      8       2.375 \n",
       "9  18      13     -2.281 "
      ]
     },
     "metadata": {},
     "output_type": "display_data"
    },
    {
     "ename": "AnalysisException",
     "evalue": "'Resolved attribute(s) rating#2 missing from userid#9271,jokeid#9272,rating#9273 in operator !Project [userid#9271, jokeid#9272, cast(rating#2 as int) AS rating#9285]. Attribute(s) with the same name appear in the operation: rating. Please check if the right attribute(s) are used.;;\\n!Project [userid#9271, jokeid#9272, cast(rating#2 as int) AS rating#9285]\\n+- Relation[userid#9271,jokeid#9272,rating#9273] org.apache.spark.sql.cassandra.CassandraSourceRelation@4a0c411b\\n'",
     "output_type": "error",
     "traceback": [
      "\u001b[0;31m---------------------------------------------------------------------------\u001b[0m",
      "\u001b[0;31mPy4JJavaError\u001b[0m                             Traceback (most recent call last)",
      "\u001b[0;32m~/spark-2.4.0-bin-hadoop2.7/python/pyspark/sql/utils.py\u001b[0m in \u001b[0;36mdeco\u001b[0;34m(*a, **kw)\u001b[0m\n\u001b[1;32m     62\u001b[0m         \u001b[0;32mtry\u001b[0m\u001b[0;34m:\u001b[0m\u001b[0;34m\u001b[0m\u001b[0;34m\u001b[0m\u001b[0m\n\u001b[0;32m---> 63\u001b[0;31m             \u001b[0;32mreturn\u001b[0m \u001b[0mf\u001b[0m\u001b[0;34m(\u001b[0m\u001b[0;34m*\u001b[0m\u001b[0ma\u001b[0m\u001b[0;34m,\u001b[0m \u001b[0;34m**\u001b[0m\u001b[0mkw\u001b[0m\u001b[0;34m)\u001b[0m\u001b[0;34m\u001b[0m\u001b[0;34m\u001b[0m\u001b[0m\n\u001b[0m\u001b[1;32m     64\u001b[0m         \u001b[0;32mexcept\u001b[0m \u001b[0mpy4j\u001b[0m\u001b[0;34m.\u001b[0m\u001b[0mprotocol\u001b[0m\u001b[0;34m.\u001b[0m\u001b[0mPy4JJavaError\u001b[0m \u001b[0;32mas\u001b[0m \u001b[0me\u001b[0m\u001b[0;34m:\u001b[0m\u001b[0;34m\u001b[0m\u001b[0;34m\u001b[0m\u001b[0m\n",
      "\u001b[0;32m~/spark-2.4.0-bin-hadoop2.7/python/lib/py4j-0.10.7-src.zip/py4j/protocol.py\u001b[0m in \u001b[0;36mget_return_value\u001b[0;34m(answer, gateway_client, target_id, name)\u001b[0m\n\u001b[1;32m    327\u001b[0m                     \u001b[0;34m\"An error occurred while calling {0}{1}{2}.\\n\"\u001b[0m\u001b[0;34m.\u001b[0m\u001b[0;34m\u001b[0m\u001b[0;34m\u001b[0m\u001b[0m\n\u001b[0;32m--> 328\u001b[0;31m                     format(target_id, \".\", name), value)\n\u001b[0m\u001b[1;32m    329\u001b[0m             \u001b[0;32melse\u001b[0m\u001b[0;34m:\u001b[0m\u001b[0;34m\u001b[0m\u001b[0;34m\u001b[0m\u001b[0m\n",
      "\u001b[0;31mPy4JJavaError\u001b[0m: An error occurred while calling o909.withColumn.\n: org.apache.spark.sql.AnalysisException: Resolved attribute(s) rating#2 missing from userid#9271,jokeid#9272,rating#9273 in operator !Project [userid#9271, jokeid#9272, cast(rating#2 as int) AS rating#9285]. Attribute(s) with the same name appear in the operation: rating. Please check if the right attribute(s) are used.;;\n!Project [userid#9271, jokeid#9272, cast(rating#2 as int) AS rating#9285]\n+- Relation[userid#9271,jokeid#9272,rating#9273] org.apache.spark.sql.cassandra.CassandraSourceRelation@4a0c411b\n\n\tat org.apache.spark.sql.catalyst.analysis.CheckAnalysis$class.failAnalysis(CheckAnalysis.scala:42)\n\tat org.apache.spark.sql.catalyst.analysis.Analyzer.failAnalysis(Analyzer.scala:95)\n\tat org.apache.spark.sql.catalyst.analysis.CheckAnalysis$$anonfun$checkAnalysis$1.apply(CheckAnalysis.scala:326)\n\tat org.apache.spark.sql.catalyst.analysis.CheckAnalysis$$anonfun$checkAnalysis$1.apply(CheckAnalysis.scala:85)\n\tat org.apache.spark.sql.catalyst.trees.TreeNode.foreachUp(TreeNode.scala:127)\n\tat org.apache.spark.sql.catalyst.analysis.CheckAnalysis$class.checkAnalysis(CheckAnalysis.scala:85)\n\tat org.apache.spark.sql.catalyst.analysis.Analyzer.checkAnalysis(Analyzer.scala:95)\n\tat org.apache.spark.sql.catalyst.analysis.Analyzer$$anonfun$executeAndCheck$1.apply(Analyzer.scala:108)\n\tat org.apache.spark.sql.catalyst.analysis.Analyzer$$anonfun$executeAndCheck$1.apply(Analyzer.scala:105)\n\tat org.apache.spark.sql.catalyst.plans.logical.AnalysisHelper$.markInAnalyzer(AnalysisHelper.scala:201)\n\tat org.apache.spark.sql.catalyst.analysis.Analyzer.executeAndCheck(Analyzer.scala:105)\n\tat org.apache.spark.sql.execution.QueryExecution.analyzed$lzycompute(QueryExecution.scala:57)\n\tat org.apache.spark.sql.execution.QueryExecution.analyzed(QueryExecution.scala:55)\n\tat org.apache.spark.sql.execution.QueryExecution.assertAnalyzed(QueryExecution.scala:47)\n\tat org.apache.spark.sql.Dataset$.ofRows(Dataset.scala:79)\n\tat org.apache.spark.sql.Dataset.org$apache$spark$sql$Dataset$$withPlan(Dataset.scala:3407)\n\tat org.apache.spark.sql.Dataset.select(Dataset.scala:1335)\n\tat org.apache.spark.sql.Dataset.withColumns(Dataset.scala:2253)\n\tat org.apache.spark.sql.Dataset.withColumn(Dataset.scala:2220)\n\tat sun.reflect.NativeMethodAccessorImpl.invoke0(Native Method)\n\tat sun.reflect.NativeMethodAccessorImpl.invoke(NativeMethodAccessorImpl.java:62)\n\tat sun.reflect.DelegatingMethodAccessorImpl.invoke(DelegatingMethodAccessorImpl.java:43)\n\tat java.lang.reflect.Method.invoke(Method.java:498)\n\tat py4j.reflection.MethodInvoker.invoke(MethodInvoker.java:244)\n\tat py4j.reflection.ReflectionEngine.invoke(ReflectionEngine.java:357)\n\tat py4j.Gateway.invoke(Gateway.java:282)\n\tat py4j.commands.AbstractCommand.invokeMethod(AbstractCommand.java:132)\n\tat py4j.commands.CallCommand.execute(CallCommand.java:79)\n\tat py4j.GatewayConnection.run(GatewayConnection.java:238)\n\tat java.lang.Thread.run(Thread.java:748)\n",
      "\nDuring handling of the above exception, another exception occurred:\n",
      "\u001b[0;31mAnalysisException\u001b[0m                         Traceback (most recent call last)",
      "\u001b[0;32m<ipython-input-60-734c5aee4d76>\u001b[0m in \u001b[0;36m<module>\u001b[0;34m\u001b[0m\n\u001b[1;32m      1\u001b[0m \u001b[0mshowDF\u001b[0m\u001b[0;34m(\u001b[0m\u001b[0mjokeTable\u001b[0m\u001b[0;34m)\u001b[0m\u001b[0;34m\u001b[0m\u001b[0;34m\u001b[0m\u001b[0m\n\u001b[0;32m----> 2\u001b[0;31m \u001b[0mjoke_df\u001b[0m \u001b[0;34m=\u001b[0m \u001b[0mjokeTable\u001b[0m\u001b[0;34m.\u001b[0m\u001b[0mwithColumn\u001b[0m\u001b[0;34m(\u001b[0m\u001b[0;34m\"rating\"\u001b[0m\u001b[0;34m,\u001b[0m \u001b[0mtest\u001b[0m\u001b[0;34m.\u001b[0m\u001b[0mrating\u001b[0m\u001b[0;34m.\u001b[0m\u001b[0mcast\u001b[0m\u001b[0;34m(\u001b[0m\u001b[0;34m'int'\u001b[0m\u001b[0;34m)\u001b[0m\u001b[0;34m)\u001b[0m\u001b[0;34m\u001b[0m\u001b[0;34m\u001b[0m\u001b[0m\n\u001b[0m\u001b[1;32m      3\u001b[0m \u001b[0mshowDF\u001b[0m\u001b[0;34m(\u001b[0m\u001b[0mjoke_df\u001b[0m\u001b[0;34m)\u001b[0m\u001b[0;34m\u001b[0m\u001b[0;34m\u001b[0m\u001b[0m\n",
      "\u001b[0;32m~/spark-2.4.0-bin-hadoop2.7/python/pyspark/sql/dataframe.py\u001b[0m in \u001b[0;36mwithColumn\u001b[0;34m(self, colName, col)\u001b[0m\n\u001b[1;32m   1987\u001b[0m         \"\"\"\n\u001b[1;32m   1988\u001b[0m         \u001b[0;32massert\u001b[0m \u001b[0misinstance\u001b[0m\u001b[0;34m(\u001b[0m\u001b[0mcol\u001b[0m\u001b[0;34m,\u001b[0m \u001b[0mColumn\u001b[0m\u001b[0;34m)\u001b[0m\u001b[0;34m,\u001b[0m \u001b[0;34m\"col should be Column\"\u001b[0m\u001b[0;34m\u001b[0m\u001b[0;34m\u001b[0m\u001b[0m\n\u001b[0;32m-> 1989\u001b[0;31m         \u001b[0;32mreturn\u001b[0m \u001b[0mDataFrame\u001b[0m\u001b[0;34m(\u001b[0m\u001b[0mself\u001b[0m\u001b[0;34m.\u001b[0m\u001b[0m_jdf\u001b[0m\u001b[0;34m.\u001b[0m\u001b[0mwithColumn\u001b[0m\u001b[0;34m(\u001b[0m\u001b[0mcolName\u001b[0m\u001b[0;34m,\u001b[0m \u001b[0mcol\u001b[0m\u001b[0;34m.\u001b[0m\u001b[0m_jc\u001b[0m\u001b[0;34m)\u001b[0m\u001b[0;34m,\u001b[0m \u001b[0mself\u001b[0m\u001b[0;34m.\u001b[0m\u001b[0msql_ctx\u001b[0m\u001b[0;34m)\u001b[0m\u001b[0;34m\u001b[0m\u001b[0;34m\u001b[0m\u001b[0m\n\u001b[0m\u001b[1;32m   1990\u001b[0m \u001b[0;34m\u001b[0m\u001b[0m\n\u001b[1;32m   1991\u001b[0m     \u001b[0;34m@\u001b[0m\u001b[0mignore_unicode_prefix\u001b[0m\u001b[0;34m\u001b[0m\u001b[0;34m\u001b[0m\u001b[0m\n",
      "\u001b[0;32m~/spark-2.4.0-bin-hadoop2.7/python/lib/py4j-0.10.7-src.zip/py4j/java_gateway.py\u001b[0m in \u001b[0;36m__call__\u001b[0;34m(self, *args)\u001b[0m\n\u001b[1;32m   1255\u001b[0m         \u001b[0manswer\u001b[0m \u001b[0;34m=\u001b[0m \u001b[0mself\u001b[0m\u001b[0;34m.\u001b[0m\u001b[0mgateway_client\u001b[0m\u001b[0;34m.\u001b[0m\u001b[0msend_command\u001b[0m\u001b[0;34m(\u001b[0m\u001b[0mcommand\u001b[0m\u001b[0;34m)\u001b[0m\u001b[0;34m\u001b[0m\u001b[0;34m\u001b[0m\u001b[0m\n\u001b[1;32m   1256\u001b[0m         return_value = get_return_value(\n\u001b[0;32m-> 1257\u001b[0;31m             answer, self.gateway_client, self.target_id, self.name)\n\u001b[0m\u001b[1;32m   1258\u001b[0m \u001b[0;34m\u001b[0m\u001b[0m\n\u001b[1;32m   1259\u001b[0m         \u001b[0;32mfor\u001b[0m \u001b[0mtemp_arg\u001b[0m \u001b[0;32min\u001b[0m \u001b[0mtemp_args\u001b[0m\u001b[0;34m:\u001b[0m\u001b[0;34m\u001b[0m\u001b[0;34m\u001b[0m\u001b[0m\n",
      "\u001b[0;32m~/spark-2.4.0-bin-hadoop2.7/python/pyspark/sql/utils.py\u001b[0m in \u001b[0;36mdeco\u001b[0;34m(*a, **kw)\u001b[0m\n\u001b[1;32m     67\u001b[0m                                              e.java_exception.getStackTrace()))\n\u001b[1;32m     68\u001b[0m             \u001b[0;32mif\u001b[0m \u001b[0ms\u001b[0m\u001b[0;34m.\u001b[0m\u001b[0mstartswith\u001b[0m\u001b[0;34m(\u001b[0m\u001b[0;34m'org.apache.spark.sql.AnalysisException: '\u001b[0m\u001b[0;34m)\u001b[0m\u001b[0;34m:\u001b[0m\u001b[0;34m\u001b[0m\u001b[0;34m\u001b[0m\u001b[0m\n\u001b[0;32m---> 69\u001b[0;31m                 \u001b[0;32mraise\u001b[0m \u001b[0mAnalysisException\u001b[0m\u001b[0;34m(\u001b[0m\u001b[0ms\u001b[0m\u001b[0;34m.\u001b[0m\u001b[0msplit\u001b[0m\u001b[0;34m(\u001b[0m\u001b[0;34m': '\u001b[0m\u001b[0;34m,\u001b[0m \u001b[0;36m1\u001b[0m\u001b[0;34m)\u001b[0m\u001b[0;34m[\u001b[0m\u001b[0;36m1\u001b[0m\u001b[0;34m]\u001b[0m\u001b[0;34m,\u001b[0m \u001b[0mstackTrace\u001b[0m\u001b[0;34m)\u001b[0m\u001b[0;34m\u001b[0m\u001b[0;34m\u001b[0m\u001b[0m\n\u001b[0m\u001b[1;32m     70\u001b[0m             \u001b[0;32mif\u001b[0m \u001b[0ms\u001b[0m\u001b[0;34m.\u001b[0m\u001b[0mstartswith\u001b[0m\u001b[0;34m(\u001b[0m\u001b[0;34m'org.apache.spark.sql.catalyst.analysis'\u001b[0m\u001b[0;34m)\u001b[0m\u001b[0;34m:\u001b[0m\u001b[0;34m\u001b[0m\u001b[0;34m\u001b[0m\u001b[0m\n\u001b[1;32m     71\u001b[0m                 \u001b[0;32mraise\u001b[0m \u001b[0mAnalysisException\u001b[0m\u001b[0;34m(\u001b[0m\u001b[0ms\u001b[0m\u001b[0;34m.\u001b[0m\u001b[0msplit\u001b[0m\u001b[0;34m(\u001b[0m\u001b[0;34m': '\u001b[0m\u001b[0;34m,\u001b[0m \u001b[0;36m1\u001b[0m\u001b[0;34m)\u001b[0m\u001b[0;34m[\u001b[0m\u001b[0;36m1\u001b[0m\u001b[0;34m]\u001b[0m\u001b[0;34m,\u001b[0m \u001b[0mstackTrace\u001b[0m\u001b[0;34m)\u001b[0m\u001b[0;34m\u001b[0m\u001b[0;34m\u001b[0m\u001b[0m\n",
      "\u001b[0;31mAnalysisException\u001b[0m: 'Resolved attribute(s) rating#2 missing from userid#9271,jokeid#9272,rating#9273 in operator !Project [userid#9271, jokeid#9272, cast(rating#2 as int) AS rating#9285]. Attribute(s) with the same name appear in the operation: rating. Please check if the right attribute(s) are used.;;\\n!Project [userid#9271, jokeid#9272, cast(rating#2 as int) AS rating#9285]\\n+- Relation[userid#9271,jokeid#9272,rating#9273] org.apache.spark.sql.cassandra.CassandraSourceRelation@4a0c411b\\n'"
     ]
    }
   ],
   "source": [
    "showDF(jokeTable)\n",
    "joke_df = jokeTable.withColumn(\"rating\", test.rating.cast('int'))\n",
    "showDF(joke_df)"
   ]
  },
  {
   "cell_type": "code",
   "execution_count": 61,
   "metadata": {},
   "outputs": [
    {
     "data": {
      "text/html": [
       "<div>\n",
       "<style scoped>\n",
       "    .dataframe tbody tr th:only-of-type {\n",
       "        vertical-align: middle;\n",
       "    }\n",
       "\n",
       "    .dataframe tbody tr th {\n",
       "        vertical-align: top;\n",
       "    }\n",
       "\n",
       "    .dataframe thead th {\n",
       "        text-align: right;\n",
       "    }\n",
       "</style>\n",
       "<table border=\"1\" class=\"dataframe\">\n",
       "  <thead>\n",
       "    <tr style=\"text-align: right;\">\n",
       "      <th></th>\n",
       "      <th>userid</th>\n",
       "      <th>jokeid</th>\n",
       "      <th>rating</th>\n",
       "    </tr>\n",
       "  </thead>\n",
       "  <tbody>\n",
       "    <tr>\n",
       "      <th>0</th>\n",
       "      <td>4</td>\n",
       "      <td>5</td>\n",
       "      <td>-5</td>\n",
       "    </tr>\n",
       "    <tr>\n",
       "      <th>1</th>\n",
       "      <td>4</td>\n",
       "      <td>7</td>\n",
       "      <td>-4</td>\n",
       "    </tr>\n",
       "    <tr>\n",
       "      <th>2</th>\n",
       "      <td>4</td>\n",
       "      <td>8</td>\n",
       "      <td>-4</td>\n",
       "    </tr>\n",
       "    <tr>\n",
       "      <th>3</th>\n",
       "      <td>18</td>\n",
       "      <td>5</td>\n",
       "      <td>0</td>\n",
       "    </tr>\n",
       "    <tr>\n",
       "      <th>4</th>\n",
       "      <td>18</td>\n",
       "      <td>7</td>\n",
       "      <td>-7</td>\n",
       "    </tr>\n",
       "    <tr>\n",
       "      <th>5</th>\n",
       "      <td>18</td>\n",
       "      <td>8</td>\n",
       "      <td>2</td>\n",
       "    </tr>\n",
       "    <tr>\n",
       "      <th>6</th>\n",
       "      <td>18</td>\n",
       "      <td>13</td>\n",
       "      <td>-2</td>\n",
       "    </tr>\n",
       "    <tr>\n",
       "      <th>7</th>\n",
       "      <td>18</td>\n",
       "      <td>15</td>\n",
       "      <td>-7</td>\n",
       "    </tr>\n",
       "    <tr>\n",
       "      <th>8</th>\n",
       "      <td>18</td>\n",
       "      <td>16</td>\n",
       "      <td>-4</td>\n",
       "    </tr>\n",
       "    <tr>\n",
       "      <th>9</th>\n",
       "      <td>18</td>\n",
       "      <td>19</td>\n",
       "      <td>-3</td>\n",
       "    </tr>\n",
       "  </tbody>\n",
       "</table>\n",
       "</div>"
      ],
      "text/plain": [
       "   userid  jokeid  rating\n",
       "0  4       5      -5     \n",
       "1  4       7      -4     \n",
       "2  4       8      -4     \n",
       "3  18      5       0     \n",
       "4  18      7      -7     \n",
       "5  18      8       2     \n",
       "6  18      13     -2     \n",
       "7  18      15     -7     \n",
       "8  18      16     -4     \n",
       "9  18      19     -3     "
      ]
     },
     "metadata": {},
     "output_type": "display_data"
    }
   ],
   "source": [
    "(training, test) = jokeTable.randomSplit([0.8, 0.2])\n",
    "\n",
    "training_df = training.withColumn(\"rating\", training.rating.cast('int'))\n",
    "testing_df = test.withColumn(\"rating\", test.rating.cast('int'))\n",
    "\n",
    "showDF(training_df)"
   ]
  },
  {
   "cell_type": "code",
   "execution_count": 62,
   "metadata": {},
   "outputs": [],
   "source": [
    "als = ALS(maxIter=5, regParam=0.01, userCol=\"userid\", itemCol=\"jokeid\", ratingCol=\"rating\",\n",
    "          coldStartStrategy=\"drop\")\n",
    "\n",
    "model = als.fit(training_df)"
   ]
  },
  {
   "cell_type": "code",
   "execution_count": 63,
   "metadata": {},
   "outputs": [
    {
     "name": "stdout",
     "output_type": "stream",
     "text": [
      "Root-mean-square error = 6.265703145303816\n"
     ]
    },
    {
     "data": {
      "text/html": [
       "<div>\n",
       "<style scoped>\n",
       "    .dataframe tbody tr th:only-of-type {\n",
       "        vertical-align: middle;\n",
       "    }\n",
       "\n",
       "    .dataframe tbody tr th {\n",
       "        vertical-align: top;\n",
       "    }\n",
       "\n",
       "    .dataframe thead th {\n",
       "        text-align: right;\n",
       "    }\n",
       "</style>\n",
       "<table border=\"1\" class=\"dataframe\">\n",
       "  <thead>\n",
       "    <tr style=\"text-align: right;\">\n",
       "      <th></th>\n",
       "      <th>userid</th>\n",
       "      <th>recommendations</th>\n",
       "    </tr>\n",
       "  </thead>\n",
       "  <tbody>\n",
       "    <tr>\n",
       "      <th>0</th>\n",
       "      <td>148</td>\n",
       "      <td>[(75, 30.87855339050293), (66, 28.134014129638672), (64, 25.760520935058594), (83, 23.183927536010742), (40, 21.544038772583008), (98, 20.769433975219727), (31, 20.074989318847656), (74, 19.116016387939453), (69, 18.117467880249023), (35, 18.11456298828125)]</td>\n",
       "    </tr>\n",
       "    <tr>\n",
       "      <th>1</th>\n",
       "      <td>243</td>\n",
       "      <td>[(33, 17.40928840637207), (87, 15.353056907653809), (125, 12.780736923217773), (122, 11.882739067077637), (109, 10.796052932739258), (46, 9.057601928710938), (139, 8.624897956848145), (44, 8.41999340057373), (51, 8.065143585205078), (56, 7.839664459228516)]</td>\n",
       "    </tr>\n",
       "    <tr>\n",
       "      <th>2</th>\n",
       "      <td>251</td>\n",
       "      <td>[(139, 7.4646196365356445), (97, 7.374938488006592), (123, 4.722718238830566), (131, 2.6079823970794678), (80, 2.1647560596466064), (133, 1.74586820602417), (135, 1.6211751699447632), (108, 1.6160073280334473), (28, 1.462329387664795), (114, 1.345022201538086)]</td>\n",
       "    </tr>\n",
       "    <tr>\n",
       "      <th>3</th>\n",
       "      <td>85</td>\n",
       "      <td>[(53, 23.444725036621094), (83, 20.632675170898438), (69, 18.544334411621094), (138, 17.63379669189453), (81, 17.346214294433594), (21, 16.988012313842773), (52, 16.81336212158203), (66, 16.52860450744629), (127, 15.276453018188477), (129, 14.083913803100586)]</td>\n",
       "    </tr>\n",
       "    <tr>\n",
       "      <th>4</th>\n",
       "      <td>137</td>\n",
       "      <td>[(141, 21.817230224609375), (44, 17.85183334350586), (124, 17.578853607177734), (143, 15.591338157653809), (103, 14.879071235656738), (73, 14.256434440612793), (33, 13.75822925567627), (43, 13.343883514404297), (117, 11.411349296569824), (79, 10.856827735900879)]</td>\n",
       "    </tr>\n",
       "    <tr>\n",
       "      <th>5</th>\n",
       "      <td>65</td>\n",
       "      <td>[(110, 12.940678596496582), (43, 12.660163879394531), (73, 12.247119903564453), (80, 12.136799812316895), (38, 11.39245891571045), (33, 11.327520370483398), (116, 11.204057693481445), (68, 11.094342231750488), (90, 11.076092720031738), (94, 11.067971229553223)]</td>\n",
       "    </tr>\n",
       "    <tr>\n",
       "      <th>6</th>\n",
       "      <td>53</td>\n",
       "      <td>[(71, 14.830660820007324), (114, 13.391698837280273), (113, 11.727563858032227), (56, 11.286611557006836), (119, 10.457679748535156), (46, 10.309399604797363), (122, 9.782358169555664), (66, 8.979514122009277), (104, 8.54745101928711), (120, 8.322032928466797)]</td>\n",
       "    </tr>\n",
       "    <tr>\n",
       "      <th>7</th>\n",
       "      <td>133</td>\n",
       "      <td>[(75, 10.07713794708252), (109, 9.776427268981934), (119, 9.64278507232666), (34, 9.45654582977295), (83, 8.600651741027832), (69, 8.579179763793945), (105, 8.55909538269043), (66, 8.420408248901367), (26, 8.33706283569336), (46, 8.160682678222656)]</td>\n",
       "    </tr>\n",
       "    <tr>\n",
       "      <th>8</th>\n",
       "      <td>155</td>\n",
       "      <td>[(80, 61.71413040161133), (110, 53.4033203125), (108, 53.13975524902344), (106, 48.280765533447266), (118, 47.96070098876953), (82, 46.35362243652344), (114, 46.20625686645508), (71, 45.10487747192383), (94, 44.62059020996094), (97, 44.161651611328125)]</td>\n",
       "    </tr>\n",
       "    <tr>\n",
       "      <th>9</th>\n",
       "      <td>108</td>\n",
       "      <td>[(21, 17.170969009399414), (102, 17.048480987548828), (75, 16.843189239501953), (81, 15.443465232849121), (57, 15.087509155273438), (83, 13.270089149475098), (78, 12.704123497009277), (39, 12.266119003295898), (108, 12.039423942565918), (69, 11.403729438781738)]</td>\n",
       "    </tr>\n",
       "  </tbody>\n",
       "</table>\n",
       "</div>"
      ],
      "text/plain": [
       "   userid  \\\n",
       "0  148      \n",
       "1  243      \n",
       "2  251      \n",
       "3  85       \n",
       "4  137      \n",
       "5  65       \n",
       "6  53       \n",
       "7  133      \n",
       "8  155      \n",
       "9  108      \n",
       "\n",
       "                                                                                                                                                                                                                                                           recommendations  \n",
       "0  [(75, 30.87855339050293), (66, 28.134014129638672), (64, 25.760520935058594), (83, 23.183927536010742), (40, 21.544038772583008), (98, 20.769433975219727), (31, 20.074989318847656), (74, 19.116016387939453), (69, 18.117467880249023), (35, 18.11456298828125)]       \n",
       "1  [(33, 17.40928840637207), (87, 15.353056907653809), (125, 12.780736923217773), (122, 11.882739067077637), (109, 10.796052932739258), (46, 9.057601928710938), (139, 8.624897956848145), (44, 8.41999340057373), (51, 8.065143585205078), (56, 7.839664459228516)]        \n",
       "2  [(139, 7.4646196365356445), (97, 7.374938488006592), (123, 4.722718238830566), (131, 2.6079823970794678), (80, 2.1647560596466064), (133, 1.74586820602417), (135, 1.6211751699447632), (108, 1.6160073280334473), (28, 1.462329387664795), (114, 1.345022201538086)]    \n",
       "3  [(53, 23.444725036621094), (83, 20.632675170898438), (69, 18.544334411621094), (138, 17.63379669189453), (81, 17.346214294433594), (21, 16.988012313842773), (52, 16.81336212158203), (66, 16.52860450744629), (127, 15.276453018188477), (129, 14.083913803100586)]     \n",
       "4  [(141, 21.817230224609375), (44, 17.85183334350586), (124, 17.578853607177734), (143, 15.591338157653809), (103, 14.879071235656738), (73, 14.256434440612793), (33, 13.75822925567627), (43, 13.343883514404297), (117, 11.411349296569824), (79, 10.856827735900879)]  \n",
       "5  [(110, 12.940678596496582), (43, 12.660163879394531), (73, 12.247119903564453), (80, 12.136799812316895), (38, 11.39245891571045), (33, 11.327520370483398), (116, 11.204057693481445), (68, 11.094342231750488), (90, 11.076092720031738), (94, 11.067971229553223)]    \n",
       "6  [(71, 14.830660820007324), (114, 13.391698837280273), (113, 11.727563858032227), (56, 11.286611557006836), (119, 10.457679748535156), (46, 10.309399604797363), (122, 9.782358169555664), (66, 8.979514122009277), (104, 8.54745101928711), (120, 8.322032928466797)]    \n",
       "7  [(75, 10.07713794708252), (109, 9.776427268981934), (119, 9.64278507232666), (34, 9.45654582977295), (83, 8.600651741027832), (69, 8.579179763793945), (105, 8.55909538269043), (66, 8.420408248901367), (26, 8.33706283569336), (46, 8.160682678222656)]                \n",
       "8  [(80, 61.71413040161133), (110, 53.4033203125), (108, 53.13975524902344), (106, 48.280765533447266), (118, 47.96070098876953), (82, 46.35362243652344), (114, 46.20625686645508), (71, 45.10487747192383), (94, 44.62059020996094), (97, 44.161651611328125)]            \n",
       "9  [(21, 17.170969009399414), (102, 17.048480987548828), (75, 16.843189239501953), (81, 15.443465232849121), (57, 15.087509155273438), (83, 13.270089149475098), (78, 12.704123497009277), (39, 12.266119003295898), (108, 12.039423942565918), (69, 11.403729438781738)]   "
      ]
     },
     "metadata": {},
     "output_type": "display_data"
    },
    {
     "data": {
      "text/html": [
       "<div>\n",
       "<style scoped>\n",
       "    .dataframe tbody tr th:only-of-type {\n",
       "        vertical-align: middle;\n",
       "    }\n",
       "\n",
       "    .dataframe tbody tr th {\n",
       "        vertical-align: top;\n",
       "    }\n",
       "\n",
       "    .dataframe thead th {\n",
       "        text-align: right;\n",
       "    }\n",
       "</style>\n",
       "<table border=\"1\" class=\"dataframe\">\n",
       "  <thead>\n",
       "    <tr style=\"text-align: right;\">\n",
       "      <th></th>\n",
       "      <th>jokeid</th>\n",
       "      <th>recommendations</th>\n",
       "    </tr>\n",
       "  </thead>\n",
       "  <tbody>\n",
       "    <tr>\n",
       "      <th>0</th>\n",
       "      <td>148</td>\n",
       "      <td>[(258, 17.321176528930664), (136, 14.053995132446289), (61, 13.78636646270752), (28, 12.587363243103027), (253, 11.544229507446289), (93, 10.45460319519043), (27, 10.28254222869873), (9, 9.937729835510254), (74, 9.913469314575195), (230, 9.762044906616211)]</td>\n",
       "    </tr>\n",
       "    <tr>\n",
       "      <th>1</th>\n",
       "      <td>31</td>\n",
       "      <td>[(81, 34.0018424987793), (155, 32.526702880859375), (250, 22.058740615844727), (166, 21.514419555664062), (148, 20.074989318847656), (115, 19.588237762451172), (12, 19.07025718688965), (240, 18.76581382751465), (117, 18.634449005126953), (184, 16.273033142089844)]</td>\n",
       "    </tr>\n",
       "    <tr>\n",
       "      <th>2</th>\n",
       "      <td>85</td>\n",
       "      <td>[(26, 27.821496963500977), (9, 26.189910888671875), (27, 20.23271369934082), (237, 18.704910278320312), (185, 18.283824920654297), (138, 17.802446365356445), (204, 15.296958923339844), (94, 14.987640380859375), (84, 14.215047836303711), (136, 14.041051864624023)]</td>\n",
       "    </tr>\n",
       "    <tr>\n",
       "      <th>3</th>\n",
       "      <td>137</td>\n",
       "      <td>[(155, 15.769050598144531), (94, 14.585921287536621), (148, 14.218659400939941), (117, 13.419683456420898), (240, 12.67559814453125), (27, 12.63527774810791), (136, 12.074342727661133), (205, 11.025575637817383), (81, 10.977522850036621), (62, 10.69485855102539)]</td>\n",
       "    </tr>\n",
       "    <tr>\n",
       "      <th>4</th>\n",
       "      <td>65</td>\n",
       "      <td>[(81, 56.19865417480469), (155, 30.93911361694336), (136, 28.255250930786133), (253, 25.895462036132812), (166, 21.785945892333984), (205, 21.427505493164062), (66, 20.623952865600586), (165, 19.239398956298828), (184, 18.62884521484375), (240, 17.548694610595703)]</td>\n",
       "    </tr>\n",
       "    <tr>\n",
       "      <th>5</th>\n",
       "      <td>53</td>\n",
       "      <td>[(12, 33.32024002075195), (175, 33.315773010253906), (107, 31.784751892089844), (81, 30.855751037597656), (205, 28.30265235900879), (253, 26.578123092651367), (85, 23.444725036621094), (203, 20.60529136657715), (42, 18.37078094482422), (258, 18.184783935546875)]</td>\n",
       "    </tr>\n",
       "    <tr>\n",
       "      <th>6</th>\n",
       "      <td>133</td>\n",
       "      <td>[(81, 43.42300033569336), (166, 33.25961685180664), (155, 32.514102935791016), (123, 30.02727508544922), (12, 26.05786895751953), (250, 25.77063751220703), (115, 23.643600463867188), (207, 19.578575134277344), (148, 17.99712562561035), (226, 17.417619705200195)]</td>\n",
       "    </tr>\n",
       "    <tr>\n",
       "      <th>7</th>\n",
       "      <td>78</td>\n",
       "      <td>[(155, 41.89334487915039), (3, 30.635631561279297), (166, 29.17324447631836), (258, 24.76178741455078), (158, 24.46875762939453), (136, 23.4233341217041), (81, 19.61318588256836), (172, 19.349361419677734), (177, 17.342662811279297), (123, 16.567764282226562)]</td>\n",
       "    </tr>\n",
       "    <tr>\n",
       "      <th>8</th>\n",
       "      <td>108</td>\n",
       "      <td>[(155, 53.13975524902344), (258, 49.0959358215332), (136, 42.85388946533203), (3, 33.08396530151367), (166, 30.225933074951172), (158, 30.181238174438477), (81, 29.519527435302734), (253, 27.82582664489746), (165, 23.67397117614746), (84, 21.676437377929688)]</td>\n",
       "    </tr>\n",
       "    <tr>\n",
       "      <th>9</th>\n",
       "      <td>34</td>\n",
       "      <td>[(123, 37.14117431640625), (81, 32.54072952270508), (12, 32.25951385498047), (115, 31.250389099121094), (155, 29.890296936035156), (177, 27.495187759399414), (253, 25.72541046142578), (107, 24.079378128051758), (166, 21.463478088378906), (187, 19.782772064208984)]</td>\n",
       "    </tr>\n",
       "  </tbody>\n",
       "</table>\n",
       "</div>"
      ],
      "text/plain": [
       "   jokeid  \\\n",
       "0  148      \n",
       "1  31       \n",
       "2  85       \n",
       "3  137      \n",
       "4  65       \n",
       "5  53       \n",
       "6  133      \n",
       "7  78       \n",
       "8  108      \n",
       "9  34       \n",
       "\n",
       "                                                                                                                                                                                                                                                             recommendations  \n",
       "0  [(258, 17.321176528930664), (136, 14.053995132446289), (61, 13.78636646270752), (28, 12.587363243103027), (253, 11.544229507446289), (93, 10.45460319519043), (27, 10.28254222869873), (9, 9.937729835510254), (74, 9.913469314575195), (230, 9.762044906616211)]          \n",
       "1  [(81, 34.0018424987793), (155, 32.526702880859375), (250, 22.058740615844727), (166, 21.514419555664062), (148, 20.074989318847656), (115, 19.588237762451172), (12, 19.07025718688965), (240, 18.76581382751465), (117, 18.634449005126953), (184, 16.273033142089844)]   \n",
       "2  [(26, 27.821496963500977), (9, 26.189910888671875), (27, 20.23271369934082), (237, 18.704910278320312), (185, 18.283824920654297), (138, 17.802446365356445), (204, 15.296958923339844), (94, 14.987640380859375), (84, 14.215047836303711), (136, 14.041051864624023)]    \n",
       "3  [(155, 15.769050598144531), (94, 14.585921287536621), (148, 14.218659400939941), (117, 13.419683456420898), (240, 12.67559814453125), (27, 12.63527774810791), (136, 12.074342727661133), (205, 11.025575637817383), (81, 10.977522850036621), (62, 10.69485855102539)]    \n",
       "4  [(81, 56.19865417480469), (155, 30.93911361694336), (136, 28.255250930786133), (253, 25.895462036132812), (166, 21.785945892333984), (205, 21.427505493164062), (66, 20.623952865600586), (165, 19.239398956298828), (184, 18.62884521484375), (240, 17.548694610595703)]  \n",
       "5  [(12, 33.32024002075195), (175, 33.315773010253906), (107, 31.784751892089844), (81, 30.855751037597656), (205, 28.30265235900879), (253, 26.578123092651367), (85, 23.444725036621094), (203, 20.60529136657715), (42, 18.37078094482422), (258, 18.184783935546875)]     \n",
       "6  [(81, 43.42300033569336), (166, 33.25961685180664), (155, 32.514102935791016), (123, 30.02727508544922), (12, 26.05786895751953), (250, 25.77063751220703), (115, 23.643600463867188), (207, 19.578575134277344), (148, 17.99712562561035), (226, 17.417619705200195)]     \n",
       "7  [(155, 41.89334487915039), (3, 30.635631561279297), (166, 29.17324447631836), (258, 24.76178741455078), (158, 24.46875762939453), (136, 23.4233341217041), (81, 19.61318588256836), (172, 19.349361419677734), (177, 17.342662811279297), (123, 16.567764282226562)]       \n",
       "8  [(155, 53.13975524902344), (258, 49.0959358215332), (136, 42.85388946533203), (3, 33.08396530151367), (166, 30.225933074951172), (158, 30.181238174438477), (81, 29.519527435302734), (253, 27.82582664489746), (165, 23.67397117614746), (84, 21.676437377929688)]        \n",
       "9  [(123, 37.14117431640625), (81, 32.54072952270508), (12, 32.25951385498047), (115, 31.250389099121094), (155, 29.890296936035156), (177, 27.495187759399414), (253, 25.72541046142578), (107, 24.079378128051758), (166, 21.463478088378906), (187, 19.782772064208984)]   "
      ]
     },
     "metadata": {},
     "output_type": "display_data"
    }
   ],
   "source": [
    "# Evaluate the model by computing the RMSE on the test data\n",
    "predictions = model.transform(testing_df)\n",
    "evaluator = RegressionEvaluator(metricName=\"rmse\", labelCol=\"rating\",\n",
    "                                predictionCol=\"prediction\")\n",
    "rmse = evaluator.evaluate(predictions)\n",
    "print(\"Root-mean-square error = \" + str(rmse))\n",
    "\n",
    "# Generate top 10 joke recommendations for each user\n",
    "userRecs = model.recommendForAllUsers(10)\n",
    "\n",
    "showDF(userRecs)\n",
    "\n",
    "# Generate top 10 user recommendations for each joke\n",
    "jokeRecs = model.recommendForAllItems(10)\n",
    "\n",
    "showDF(jokeRecs)\n"
   ]
  },
  {
   "cell_type": "code",
   "execution_count": 64,
   "metadata": {},
   "outputs": [
    {
     "data": {
      "text/html": [
       "<div>\n",
       "<style scoped>\n",
       "    .dataframe tbody tr th:only-of-type {\n",
       "        vertical-align: middle;\n",
       "    }\n",
       "\n",
       "    .dataframe tbody tr th {\n",
       "        vertical-align: top;\n",
       "    }\n",
       "\n",
       "    .dataframe thead th {\n",
       "        text-align: right;\n",
       "    }\n",
       "</style>\n",
       "<table border=\"1\" class=\"dataframe\">\n",
       "  <thead>\n",
       "    <tr style=\"text-align: right;\">\n",
       "      <th></th>\n",
       "      <th>userid</th>\n",
       "      <th>recommendations</th>\n",
       "    </tr>\n",
       "  </thead>\n",
       "  <tbody>\n",
       "    <tr>\n",
       "      <th>0</th>\n",
       "      <td>65</td>\n",
       "      <td>[(110, 12.940678596496582), (43, 12.660163879394531), (73, 12.247119903564453), (80, 12.136799812316895), (38, 11.39245891571045), (33, 11.327520370483398), (116, 11.204057693481445), (68, 11.094342231750488), (90, 11.076092720031738), (94, 11.067971229553223)]</td>\n",
       "    </tr>\n",
       "  </tbody>\n",
       "</table>\n",
       "</div>"
      ],
      "text/plain": [
       "   userid  \\\n",
       "0  65       \n",
       "\n",
       "                                                                                                                                                                                                                                                         recommendations  \n",
       "0  [(110, 12.940678596496582), (43, 12.660163879394531), (73, 12.247119903564453), (80, 12.136799812316895), (38, 11.39245891571045), (33, 11.327520370483398), (116, 11.204057693481445), (68, 11.094342231750488), (90, 11.076092720031738), (94, 11.067971229553223)]  "
      ]
     },
     "metadata": {},
     "output_type": "display_data"
    }
   ],
   "source": [
    "showDF(userRecs.filter(userRecs.userid == 65))"
   ]
  },
  {
   "cell_type": "code",
   "execution_count": 67,
   "metadata": {},
   "outputs": [
    {
     "data": {
      "text/html": [
       "\n",
       "        <iframe\n",
       "            width=\"700\"\n",
       "            height=\"200\"\n",
       "            src=\"images/init94.html\"\n",
       "            frameborder=\"0\"\n",
       "            allowfullscreen\n",
       "        ></iframe>\n",
       "        "
      ],
      "text/plain": [
       "<IPython.lib.display.IFrame at 0x121214940>"
      ]
     },
     "execution_count": 67,
     "metadata": {},
     "output_type": "execute_result"
    }
   ],
   "source": [
    "IFrame(src='images/init94.html', width=700, height=200)"
   ]
  },
  {
   "cell_type": "code",
   "execution_count": 69,
   "metadata": {},
   "outputs": [
    {
     "data": {
      "text/html": [
       "\n",
       "        <iframe\n",
       "            width=\"700\"\n",
       "            height=\"200\"\n",
       "            src=\"images/init43.html\"\n",
       "            frameborder=\"0\"\n",
       "            allowfullscreen\n",
       "        ></iframe>\n",
       "        "
      ],
      "text/plain": [
       "<IPython.lib.display.IFrame at 0x121047a20>"
      ]
     },
     "execution_count": 69,
     "metadata": {},
     "output_type": "execute_result"
    }
   ],
   "source": [
    "IFrame(src='images/init43.html', width=700, height=200)"
   ]
  },
  {
   "cell_type": "code",
   "execution_count": 55,
   "metadata": {},
   "outputs": [
    {
     "data": {
      "text/plain": [
       "<cassandra.cluster.ResultSet at 0x121045160>"
      ]
     },
     "execution_count": 55,
     "metadata": {},
     "output_type": "execute_result"
    }
   ],
   "source": [
    "session.execute(\"\"\"drop table jokes_table1\"\"\")"
   ]
  }
 ],
 "metadata": {
  "kernelspec": {
   "display_name": "Python 3",
   "language": "python",
   "name": "python3"
  }
 },
 "nbformat": 4,
 "nbformat_minor": 2
}
