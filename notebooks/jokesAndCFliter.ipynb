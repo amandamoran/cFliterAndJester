{
 "cells": [
  {
   "cell_type": "markdown",
   "metadata": {},
   "source": [
    "# Collaborative Filtering and Comedy! \n",
    "------\n",
    "<img src=\"images/seinfeld.jpg\" width=\"400\" height=\"400\">\n",
    "\n",
    "## A demo using DataStax Enterprise Analytics, Apache Cassandra, Apache Spark, Python, Jupyter Notebooks, Spark MlLib, and KMeans \n",
    "\n",
    "#### Real Dataset: http://eigentaste.berkeley.edu/dataset/"
   ]
  },
  {
   "cell_type": "markdown",
   "metadata": {},
   "source": [
    "## Import python packages -- all are required\n",
    "* Need to tell Jupyter to display with %matplotlib otherwise you will generate the plot but not display it"
   ]
  },
  {
   "cell_type": "code",
   "execution_count": 1,
   "metadata": {},
   "outputs": [],
   "source": [
    "%matplotlib inline\n",
    "import matplotlib.pyplot as plt"
   ]
  },
  {
   "cell_type": "code",
   "execution_count": 2,
   "metadata": {},
   "outputs": [],
   "source": [
    "import os\n",
    "os.environ['PYSPARK_SUBMIT_ARGS'] = '--packages com.datastax.spark:spark-cassandra-connector_2.11:2.3.2 pyspark-shell'"
   ]
  },
  {
   "cell_type": "code",
   "execution_count": 3,
   "metadata": {},
   "outputs": [],
   "source": [
    "import pandas\n",
    "import cassandra\n",
    "import pyspark\n",
    "import re\n",
    "import os\n",
    "import matplotlib.pyplot as plt\n",
    "from IPython.display import IFrame\n",
    "from IPython.display import display, Markdown\n",
    "from pyspark.sql import SparkSession\n",
    "from pyspark.ml.evaluation import RegressionEvaluator\n",
    "from pyspark.ml.recommendation import ALS\n",
    "from pyspark.sql import Row"
   ]
  },
  {
   "cell_type": "markdown",
   "metadata": {},
   "source": [
    "#### Helper function to have nicer formatting of Spark DataFrames"
   ]
  },
  {
   "cell_type": "code",
   "execution_count": 4,
   "metadata": {},
   "outputs": [],
   "source": [
    "#Helper for pretty formatting for Spark DataFrames\n",
    "def showDF(df, limitRows =  10, truncate = False):\n",
    "    if(truncate):\n",
    "        pandas.set_option('display.max_colwidth', 100)\n",
    "    else:\n",
    "        pandas.set_option('display.max_colwidth', -1)\n",
    "    pandas.set_option('display.max_rows', limitRows)\n",
    "    display(df.limit(limitRows).toPandas())\n",
    "    pandas.reset_option('display.max_rows')"
   ]
  },
  {
   "cell_type": "markdown",
   "metadata": {},
   "source": [
    "# Apache Cassandra \n",
    "<img src=\"images/cassandralogo.png\" width=\"200\" height=\"200\">"
   ]
  },
  {
   "cell_type": "markdown",
   "metadata": {},
   "source": [
    "## Creating Tables and Loading Tables"
   ]
  },
  {
   "cell_type": "markdown",
   "metadata": {},
   "source": [
    "## Connect to Apache Cassandra Local Instance"
   ]
  },
  {
   "cell_type": "code",
   "execution_count": 5,
   "metadata": {},
   "outputs": [],
   "source": [
    "from cassandra.cluster import Cluster\n",
    "\n",
    "cluster = Cluster(['127.0.01'])\n",
    "session = cluster.connect()"
   ]
  },
  {
   "cell_type": "markdown",
   "metadata": {},
   "source": [
    "### Create Demo Keyspace "
   ]
  },
  {
   "cell_type": "code",
   "execution_count": 6,
   "metadata": {},
   "outputs": [
    {
     "data": {
      "text/plain": [
       "<cassandra.cluster.ResultSet at 0x117ecbe10>"
      ]
     },
     "execution_count": 6,
     "metadata": {},
     "output_type": "execute_result"
    }
   ],
   "source": [
    "session.execute(\"\"\"\n",
    "    CREATE KEYSPACE IF NOT EXISTS jokes \n",
    "    WITH REPLICATION = \n",
    "    { 'class' : 'SimpleStrategy', 'replication_factor' : 1 }\"\"\"\n",
    ")"
   ]
  },
  {
   "cell_type": "markdown",
   "metadata": {},
   "source": [
    "### Set keyspace "
   ]
  },
  {
   "cell_type": "code",
   "execution_count": 7,
   "metadata": {},
   "outputs": [],
   "source": [
    "session.set_keyspace('jokes')"
   ]
  },
  {
   "cell_type": "markdown",
   "metadata": {},
   "source": [
    "### Create table called wine. Our PRIMARY will be a unique key (userid) we generate for each row. This will result in an even distribution of the data but we will have to utilize that PRIMARY KEY in our WHERE clause in any of our CQL queries. "
   ]
  },
  {
   "cell_type": "code",
   "execution_count": 8,
   "metadata": {},
   "outputs": [
    {
     "data": {
      "text/plain": [
       "<cassandra.cluster.ResultSet at 0x117c1f0b8>"
      ]
     },
     "execution_count": 8,
     "metadata": {},
     "output_type": "execute_result"
    }
   ],
   "source": [
    "query = \"CREATE TABLE IF NOT EXISTS jokes_table1 \\\n",
    "                                    (userid int, jokeid int, rating float, \\\n",
    "                                     PRIMARY KEY (userid, jokeid))\"\n",
    "session.execute(query)"
   ]
  },
  {
   "cell_type": "markdown",
   "metadata": {},
   "source": [
    "### Load Joke Dataset\n",
    "<img src=\"images/laughing.gif\" width=\"300\" height=\"300\">"
   ]
  },
  {
   "cell_type": "markdown",
   "metadata": {},
   "source": [
    "### Load Jokes dataset from CSV file (jester-data-1.csv)\n",
    "* No clean up was requried! How nice :)\n",
    "\n",
    "#### Insert all the Joke Rating Data into the Apache Cassandra table `jokes_table`"
   ]
  },
  {
   "cell_type": "code",
   "execution_count": 9,
   "metadata": {},
   "outputs": [],
   "source": [
    "fileName = 'data/jester_ratings3.csv'\n",
    "input_file = open(fileName, 'r')\n",
    "\n",
    "for line in input_file:\n",
    "    jokeRow = line.split(',')\n",
    "    query = \"INSERT INTO jokes_table1 (userid, jokeid, rating)\"\n",
    "    \n",
    "    query = query + \"VALUES (%s, %s, %s)\"\n",
    "    \n",
    "    session.execute(query, (int(jokeRow[0]), int(jokeRow[1]) , float(jokeRow[2]) ))"
   ]
  },
  {
   "cell_type": "markdown",
   "metadata": {},
   "source": [
    "#### Do a select * on joke_table WHERE wineid = x to verify that data was loaded into the table"
   ]
  },
  {
   "cell_type": "code",
   "execution_count": 10,
   "metadata": {
    "scrolled": true
   },
   "outputs": [
    {
     "name": "stdout",
     "output_type": "stream",
     "text": [
      "100 5 -0.875\n",
      "100 7 9.906000137329102\n",
      "100 8 -0.843999981880188\n",
      "100 13 8.937999725341797\n",
      "100 15 -0.968999981880188\n",
      "100 16 -9.75\n",
      "100 17 9.593999862670898\n"
     ]
    }
   ],
   "source": [
    "query = 'SELECT * FROM jokes_table1 WHERE userid = 100'\n",
    "rows = session.execute(query)\n",
    "for row in rows:\n",
    "    print (row.userid, row.jokeid, row.rating)"
   ]
  },
  {
   "cell_type": "markdown",
   "metadata": {},
   "source": [
    "## Machine Learning with Apache Spark\n",
    "<img src=\"images/sparklogo.png\" width=\"150\" height=\"200\">"
   ]
  },
  {
   "cell_type": "markdown",
   "metadata": {},
   "source": [
    "### Finally time for Apache Spark! "
   ]
  },
  {
   "cell_type": "markdown",
   "metadata": {},
   "source": [
    "#### Create a spark session that is connected to Cassandra. From there load each table into a Spark Dataframe and take a count of the number of rows in each."
   ]
  },
  {
   "cell_type": "code",
   "execution_count": 11,
   "metadata": {},
   "outputs": [
    {
     "name": "stdout",
     "output_type": "stream",
     "text": [
      "Table Row Count: \n",
      "10000\n"
     ]
    }
   ],
   "source": [
    "spark = SparkSession.builder.appName('demo').master(\"local\").getOrCreate()\n",
    "\n",
    "jokeTable = spark.read.format(\"org.apache.spark.sql.cassandra\").options(table=\"jokes_table1\", keyspace=\"jokes\").load()\n",
    "\n",
    "print (\"Table Row Count: \")\n",
    "print (jokeTable.count())"
   ]
  },
  {
   "cell_type": "code",
   "execution_count": 12,
   "metadata": {},
   "outputs": [
    {
     "data": {
      "text/html": [
       "<div>\n",
       "<style scoped>\n",
       "    .dataframe tbody tr th:only-of-type {\n",
       "        vertical-align: middle;\n",
       "    }\n",
       "\n",
       "    .dataframe tbody tr th {\n",
       "        vertical-align: top;\n",
       "    }\n",
       "\n",
       "    .dataframe thead th {\n",
       "        text-align: right;\n",
       "    }\n",
       "</style>\n",
       "<table border=\"1\" class=\"dataframe\">\n",
       "  <thead>\n",
       "    <tr style=\"text-align: right;\">\n",
       "      <th></th>\n",
       "      <th>userid</th>\n",
       "      <th>jokeid</th>\n",
       "      <th>rating</th>\n",
       "    </tr>\n",
       "  </thead>\n",
       "  <tbody>\n",
       "    <tr>\n",
       "      <th>0</th>\n",
       "      <td>218</td>\n",
       "      <td>5</td>\n",
       "      <td>9.531</td>\n",
       "    </tr>\n",
       "    <tr>\n",
       "      <th>1</th>\n",
       "      <td>218</td>\n",
       "      <td>7</td>\n",
       "      <td>-0.594</td>\n",
       "    </tr>\n",
       "    <tr>\n",
       "      <th>2</th>\n",
       "      <td>218</td>\n",
       "      <td>8</td>\n",
       "      <td>9.875</td>\n",
       "    </tr>\n",
       "    <tr>\n",
       "      <th>3</th>\n",
       "      <td>4</td>\n",
       "      <td>5</td>\n",
       "      <td>-5.812</td>\n",
       "    </tr>\n",
       "    <tr>\n",
       "      <th>4</th>\n",
       "      <td>4</td>\n",
       "      <td>7</td>\n",
       "      <td>-4.500</td>\n",
       "    </tr>\n",
       "    <tr>\n",
       "      <th>5</th>\n",
       "      <td>4</td>\n",
       "      <td>8</td>\n",
       "      <td>-4.906</td>\n",
       "    </tr>\n",
       "    <tr>\n",
       "      <th>6</th>\n",
       "      <td>18</td>\n",
       "      <td>5</td>\n",
       "      <td>-0.438</td>\n",
       "    </tr>\n",
       "    <tr>\n",
       "      <th>7</th>\n",
       "      <td>18</td>\n",
       "      <td>7</td>\n",
       "      <td>-7.344</td>\n",
       "    </tr>\n",
       "    <tr>\n",
       "      <th>8</th>\n",
       "      <td>18</td>\n",
       "      <td>8</td>\n",
       "      <td>2.375</td>\n",
       "    </tr>\n",
       "    <tr>\n",
       "      <th>9</th>\n",
       "      <td>18</td>\n",
       "      <td>13</td>\n",
       "      <td>-2.281</td>\n",
       "    </tr>\n",
       "  </tbody>\n",
       "</table>\n",
       "</div>"
      ],
      "text/plain": [
       "   userid  jokeid  rating\n",
       "0  218     5       9.531 \n",
       "1  218     7      -0.594 \n",
       "2  218     8       9.875 \n",
       "3  4       5      -5.812 \n",
       "4  4       7      -4.500 \n",
       "5  4       8      -4.906 \n",
       "6  18      5      -0.438 \n",
       "7  18      7      -7.344 \n",
       "8  18      8       2.375 \n",
       "9  18      13     -2.281 "
      ]
     },
     "metadata": {},
     "output_type": "display_data"
    },
    {
     "data": {
      "text/html": [
       "<div>\n",
       "<style scoped>\n",
       "    .dataframe tbody tr th:only-of-type {\n",
       "        vertical-align: middle;\n",
       "    }\n",
       "\n",
       "    .dataframe tbody tr th {\n",
       "        vertical-align: top;\n",
       "    }\n",
       "\n",
       "    .dataframe thead th {\n",
       "        text-align: right;\n",
       "    }\n",
       "</style>\n",
       "<table border=\"1\" class=\"dataframe\">\n",
       "  <thead>\n",
       "    <tr style=\"text-align: right;\">\n",
       "      <th></th>\n",
       "      <th>userid</th>\n",
       "      <th>jokeid</th>\n",
       "      <th>rating</th>\n",
       "    </tr>\n",
       "  </thead>\n",
       "  <tbody>\n",
       "    <tr>\n",
       "      <th>0</th>\n",
       "      <td>218</td>\n",
       "      <td>5</td>\n",
       "      <td>9</td>\n",
       "    </tr>\n",
       "    <tr>\n",
       "      <th>1</th>\n",
       "      <td>218</td>\n",
       "      <td>7</td>\n",
       "      <td>0</td>\n",
       "    </tr>\n",
       "    <tr>\n",
       "      <th>2</th>\n",
       "      <td>218</td>\n",
       "      <td>8</td>\n",
       "      <td>9</td>\n",
       "    </tr>\n",
       "    <tr>\n",
       "      <th>3</th>\n",
       "      <td>4</td>\n",
       "      <td>5</td>\n",
       "      <td>-5</td>\n",
       "    </tr>\n",
       "    <tr>\n",
       "      <th>4</th>\n",
       "      <td>4</td>\n",
       "      <td>7</td>\n",
       "      <td>-4</td>\n",
       "    </tr>\n",
       "    <tr>\n",
       "      <th>5</th>\n",
       "      <td>4</td>\n",
       "      <td>8</td>\n",
       "      <td>-4</td>\n",
       "    </tr>\n",
       "    <tr>\n",
       "      <th>6</th>\n",
       "      <td>18</td>\n",
       "      <td>5</td>\n",
       "      <td>0</td>\n",
       "    </tr>\n",
       "    <tr>\n",
       "      <th>7</th>\n",
       "      <td>18</td>\n",
       "      <td>7</td>\n",
       "      <td>-7</td>\n",
       "    </tr>\n",
       "    <tr>\n",
       "      <th>8</th>\n",
       "      <td>18</td>\n",
       "      <td>8</td>\n",
       "      <td>2</td>\n",
       "    </tr>\n",
       "    <tr>\n",
       "      <th>9</th>\n",
       "      <td>18</td>\n",
       "      <td>13</td>\n",
       "      <td>-2</td>\n",
       "    </tr>\n",
       "  </tbody>\n",
       "</table>\n",
       "</div>"
      ],
      "text/plain": [
       "   userid  jokeid  rating\n",
       "0  218     5       9     \n",
       "1  218     7       0     \n",
       "2  218     8       9     \n",
       "3  4       5      -5     \n",
       "4  4       7      -4     \n",
       "5  4       8      -4     \n",
       "6  18      5       0     \n",
       "7  18      7      -7     \n",
       "8  18      8       2     \n",
       "9  18      13     -2     "
      ]
     },
     "metadata": {},
     "output_type": "display_data"
    }
   ],
   "source": [
    "showDF(jokeTable)\n",
    "joke_df = jokeTable.withColumn(\"rating\", jokeTable.rating.cast('int'))\n",
    "showDF(joke_df)"
   ]
  },
  {
   "cell_type": "code",
   "execution_count": 13,
   "metadata": {},
   "outputs": [
    {
     "data": {
      "text/html": [
       "<div>\n",
       "<style scoped>\n",
       "    .dataframe tbody tr th:only-of-type {\n",
       "        vertical-align: middle;\n",
       "    }\n",
       "\n",
       "    .dataframe tbody tr th {\n",
       "        vertical-align: top;\n",
       "    }\n",
       "\n",
       "    .dataframe thead th {\n",
       "        text-align: right;\n",
       "    }\n",
       "</style>\n",
       "<table border=\"1\" class=\"dataframe\">\n",
       "  <thead>\n",
       "    <tr style=\"text-align: right;\">\n",
       "      <th></th>\n",
       "      <th>userid</th>\n",
       "      <th>jokeid</th>\n",
       "      <th>rating</th>\n",
       "    </tr>\n",
       "  </thead>\n",
       "  <tbody>\n",
       "    <tr>\n",
       "      <th>0</th>\n",
       "      <td>4</td>\n",
       "      <td>5</td>\n",
       "      <td>-5</td>\n",
       "    </tr>\n",
       "    <tr>\n",
       "      <th>1</th>\n",
       "      <td>4</td>\n",
       "      <td>7</td>\n",
       "      <td>-4</td>\n",
       "    </tr>\n",
       "    <tr>\n",
       "      <th>2</th>\n",
       "      <td>4</td>\n",
       "      <td>8</td>\n",
       "      <td>-4</td>\n",
       "    </tr>\n",
       "    <tr>\n",
       "      <th>3</th>\n",
       "      <td>18</td>\n",
       "      <td>5</td>\n",
       "      <td>0</td>\n",
       "    </tr>\n",
       "    <tr>\n",
       "      <th>4</th>\n",
       "      <td>18</td>\n",
       "      <td>7</td>\n",
       "      <td>-7</td>\n",
       "    </tr>\n",
       "    <tr>\n",
       "      <th>5</th>\n",
       "      <td>18</td>\n",
       "      <td>8</td>\n",
       "      <td>2</td>\n",
       "    </tr>\n",
       "    <tr>\n",
       "      <th>6</th>\n",
       "      <td>18</td>\n",
       "      <td>13</td>\n",
       "      <td>-2</td>\n",
       "    </tr>\n",
       "    <tr>\n",
       "      <th>7</th>\n",
       "      <td>18</td>\n",
       "      <td>16</td>\n",
       "      <td>-4</td>\n",
       "    </tr>\n",
       "    <tr>\n",
       "      <th>8</th>\n",
       "      <td>18</td>\n",
       "      <td>17</td>\n",
       "      <td>-5</td>\n",
       "    </tr>\n",
       "    <tr>\n",
       "      <th>9</th>\n",
       "      <td>18</td>\n",
       "      <td>18</td>\n",
       "      <td>-2</td>\n",
       "    </tr>\n",
       "  </tbody>\n",
       "</table>\n",
       "</div>"
      ],
      "text/plain": [
       "   userid  jokeid  rating\n",
       "0  4       5      -5     \n",
       "1  4       7      -4     \n",
       "2  4       8      -4     \n",
       "3  18      5       0     \n",
       "4  18      7      -7     \n",
       "5  18      8       2     \n",
       "6  18      13     -2     \n",
       "7  18      16     -4     \n",
       "8  18      17     -5     \n",
       "9  18      18     -2     "
      ]
     },
     "metadata": {},
     "output_type": "display_data"
    }
   ],
   "source": [
    "(training, test) = jokeTable.randomSplit([0.8, 0.2])\n",
    "\n",
    "training_df = training.withColumn(\"rating\", training.rating.cast('int'))\n",
    "testing_df = test.withColumn(\"rating\", test.rating.cast('int'))\n",
    "\n",
    "showDF(training_df)"
   ]
  },
  {
   "cell_type": "code",
   "execution_count": 14,
   "metadata": {},
   "outputs": [],
   "source": [
    "als = ALS(maxIter=5, regParam=0.01, userCol=\"userid\", itemCol=\"jokeid\", ratingCol=\"rating\",\n",
    "          coldStartStrategy=\"drop\")\n",
    "\n",
    "model = als.fit(training_df)"
   ]
  },
  {
   "cell_type": "code",
   "execution_count": 15,
   "metadata": {},
   "outputs": [
    {
     "name": "stdout",
     "output_type": "stream",
     "text": [
      "Root-mean-square error = 6.828945359706267\n"
     ]
    },
    {
     "data": {
      "text/html": [
       "<div>\n",
       "<style scoped>\n",
       "    .dataframe tbody tr th:only-of-type {\n",
       "        vertical-align: middle;\n",
       "    }\n",
       "\n",
       "    .dataframe tbody tr th {\n",
       "        vertical-align: top;\n",
       "    }\n",
       "\n",
       "    .dataframe thead th {\n",
       "        text-align: right;\n",
       "    }\n",
       "</style>\n",
       "<table border=\"1\" class=\"dataframe\">\n",
       "  <thead>\n",
       "    <tr style=\"text-align: right;\">\n",
       "      <th></th>\n",
       "      <th>userid</th>\n",
       "      <th>recommendations</th>\n",
       "    </tr>\n",
       "  </thead>\n",
       "  <tbody>\n",
       "    <tr>\n",
       "      <th>0</th>\n",
       "      <td>148</td>\n",
       "      <td>[(40, 27.385730743408203), (28, 24.54682159423828), (90, 24.088212966918945), (87, 22.36663818359375), (146, 20.649139404296875), (109, 20.540903091430664), (116, 20.276275634765625), (58, 18.22146987915039), (88, 17.108795166015625), (64, 16.95281219482422)]</td>\n",
       "    </tr>\n",
       "    <tr>\n",
       "      <th>1</th>\n",
       "      <td>243</td>\n",
       "      <td>[(141, 33.20899200439453), (33, 23.810840606689453), (112, 20.11299705505371), (16, 15.617582321166992), (90, 15.261026382446289), (120, 14.408105850219727), (116, 14.169095993041992), (60, 13.992173194885254), (138, 13.043665885925293), (110, 12.933907508850098)]</td>\n",
       "    </tr>\n",
       "    <tr>\n",
       "      <th>2</th>\n",
       "      <td>251</td>\n",
       "      <td>[(138, 8.331933975219727), (146, 7.703481674194336), (139, 4.0359015464782715), (41, 3.621737003326416), (141, 3.049499273300171), (18, 0.36673831939697266), (56, -0.03189730644226074), (122, -1.328823447227478), (50, -1.8599724769592285), (16, -2.2206239700317383)]</td>\n",
       "    </tr>\n",
       "    <tr>\n",
       "      <th>3</th>\n",
       "      <td>85</td>\n",
       "      <td>[(124, 51.7579345703125), (58, 49.576534271240234), (55, 39.49469757080078), (52, 30.88326072692871), (141, 29.356218338012695), (90, 28.08550262451172), (122, 24.83456802368164), (64, 23.766693115234375), (28, 23.167940139770508), (138, 19.826740264892578)]</td>\n",
       "    </tr>\n",
       "    <tr>\n",
       "      <th>4</th>\n",
       "      <td>137</td>\n",
       "      <td>[(71, 13.842877388000488), (145, 12.839102745056152), (44, 12.686053276062012), (82, 12.268667221069336), (100, 12.248852729797363), (75, 11.92045783996582), (51, 11.273324966430664), (58, 10.890685081481934), (124, 10.753368377685547), (94, 9.016607284545898)]</td>\n",
       "    </tr>\n",
       "    <tr>\n",
       "      <th>5</th>\n",
       "      <td>65</td>\n",
       "      <td>[(145, 14.56903076171875), (43, 11.844061851501465), (79, 11.283380508422852), (80, 11.234314918518066), (94, 11.042588233947754), (73, 10.83102035522461), (137, 10.767558097839355), (38, 10.715609550476074), (82, 10.636094093322754), (40, 10.619543075561523)]</td>\n",
       "    </tr>\n",
       "    <tr>\n",
       "      <th>6</th>\n",
       "      <td>53</td>\n",
       "      <td>[(41, 14.527985572814941), (40, 14.371387481689453), (146, 11.115885734558105), (22, 10.421339988708496), (119, 9.233083724975586), (113, 8.829170227050781), (44, 8.780244827270508), (134, 8.295533180236816), (93, 7.711897850036621), (21, 7.61931037902832)]</td>\n",
       "    </tr>\n",
       "    <tr>\n",
       "      <th>7</th>\n",
       "      <td>133</td>\n",
       "      <td>[(75, 15.029008865356445), (83, 13.779787063598633), (21, 11.41662883758545), (40, 10.257682800292969), (22, 10.067930221557617), (66, 9.839597702026367), (69, 9.485353469848633), (42, 9.052323341369629), (34, 9.001533508300781), (80, 8.929502487182617)]</td>\n",
       "    </tr>\n",
       "    <tr>\n",
       "      <th>8</th>\n",
       "      <td>155</td>\n",
       "      <td>[(34, 65.23779296875), (60, 52.6846923828125), (130, 52.02973175048828), (140, 51.4713020324707), (95, 49.10539245605469), (22, 48.443782806396484), (24, 47.93186950683594), (135, 47.30842971801758), (129, 46.749114990234375), (67, 46.025169372558594)]</td>\n",
       "    </tr>\n",
       "    <tr>\n",
       "      <th>9</th>\n",
       "      <td>108</td>\n",
       "      <td>[(46, 24.919315338134766), (130, 23.839946746826172), (25, 21.68096160888672), (108, 21.43865203857422), (21, 21.034143447875977), (41, 20.960330963134766), (119, 19.911073684692383), (53, 17.531200408935547), (121, 17.505170822143555), (49, 16.961029052734375)]</td>\n",
       "    </tr>\n",
       "  </tbody>\n",
       "</table>\n",
       "</div>"
      ],
      "text/plain": [
       "   userid  \\\n",
       "0  148      \n",
       "1  243      \n",
       "2  251      \n",
       "3  85       \n",
       "4  137      \n",
       "5  65       \n",
       "6  53       \n",
       "7  133      \n",
       "8  155      \n",
       "9  108      \n",
       "\n",
       "                                                                                                                                                                                                                                                              recommendations  \n",
       "0  [(40, 27.385730743408203), (28, 24.54682159423828), (90, 24.088212966918945), (87, 22.36663818359375), (146, 20.649139404296875), (109, 20.540903091430664), (116, 20.276275634765625), (58, 18.22146987915039), (88, 17.108795166015625), (64, 16.95281219482422)]         \n",
       "1  [(141, 33.20899200439453), (33, 23.810840606689453), (112, 20.11299705505371), (16, 15.617582321166992), (90, 15.261026382446289), (120, 14.408105850219727), (116, 14.169095993041992), (60, 13.992173194885254), (138, 13.043665885925293), (110, 12.933907508850098)]    \n",
       "2  [(138, 8.331933975219727), (146, 7.703481674194336), (139, 4.0359015464782715), (41, 3.621737003326416), (141, 3.049499273300171), (18, 0.36673831939697266), (56, -0.03189730644226074), (122, -1.328823447227478), (50, -1.8599724769592285), (16, -2.2206239700317383)]  \n",
       "3  [(124, 51.7579345703125), (58, 49.576534271240234), (55, 39.49469757080078), (52, 30.88326072692871), (141, 29.356218338012695), (90, 28.08550262451172), (122, 24.83456802368164), (64, 23.766693115234375), (28, 23.167940139770508), (138, 19.826740264892578)]          \n",
       "4  [(71, 13.842877388000488), (145, 12.839102745056152), (44, 12.686053276062012), (82, 12.268667221069336), (100, 12.248852729797363), (75, 11.92045783996582), (51, 11.273324966430664), (58, 10.890685081481934), (124, 10.753368377685547), (94, 9.016607284545898)]       \n",
       "5  [(145, 14.56903076171875), (43, 11.844061851501465), (79, 11.283380508422852), (80, 11.234314918518066), (94, 11.042588233947754), (73, 10.83102035522461), (137, 10.767558097839355), (38, 10.715609550476074), (82, 10.636094093322754), (40, 10.619543075561523)]        \n",
       "6  [(41, 14.527985572814941), (40, 14.371387481689453), (146, 11.115885734558105), (22, 10.421339988708496), (119, 9.233083724975586), (113, 8.829170227050781), (44, 8.780244827270508), (134, 8.295533180236816), (93, 7.711897850036621), (21, 7.61931037902832)]           \n",
       "7  [(75, 15.029008865356445), (83, 13.779787063598633), (21, 11.41662883758545), (40, 10.257682800292969), (22, 10.067930221557617), (66, 9.839597702026367), (69, 9.485353469848633), (42, 9.052323341369629), (34, 9.001533508300781), (80, 8.929502487182617)]              \n",
       "8  [(34, 65.23779296875), (60, 52.6846923828125), (130, 52.02973175048828), (140, 51.4713020324707), (95, 49.10539245605469), (22, 48.443782806396484), (24, 47.93186950683594), (135, 47.30842971801758), (129, 46.749114990234375), (67, 46.025169372558594)]                \n",
       "9  [(46, 24.919315338134766), (130, 23.839946746826172), (25, 21.68096160888672), (108, 21.43865203857422), (21, 21.034143447875977), (41, 20.960330963134766), (119, 19.911073684692383), (53, 17.531200408935547), (121, 17.505170822143555), (49, 16.961029052734375)]      "
      ]
     },
     "metadata": {},
     "output_type": "display_data"
    },
    {
     "data": {
      "text/html": [
       "<div>\n",
       "<style scoped>\n",
       "    .dataframe tbody tr th:only-of-type {\n",
       "        vertical-align: middle;\n",
       "    }\n",
       "\n",
       "    .dataframe tbody tr th {\n",
       "        vertical-align: top;\n",
       "    }\n",
       "\n",
       "    .dataframe thead th {\n",
       "        text-align: right;\n",
       "    }\n",
       "</style>\n",
       "<table border=\"1\" class=\"dataframe\">\n",
       "  <thead>\n",
       "    <tr style=\"text-align: right;\">\n",
       "      <th></th>\n",
       "      <th>jokeid</th>\n",
       "      <th>recommendations</th>\n",
       "    </tr>\n",
       "  </thead>\n",
       "  <tbody>\n",
       "    <tr>\n",
       "      <th>0</th>\n",
       "      <td>148</td>\n",
       "      <td>[(84, 31.883636474609375), (203, 28.840511322021484), (155, 23.952516555786133), (121, 20.91714859008789), (250, 18.80213165283203), (136, 18.156707763671875), (185, 18.147274017333984), (258, 17.760921478271484), (248, 15.642515182495117), (38, 15.021276473999023)]</td>\n",
       "    </tr>\n",
       "    <tr>\n",
       "      <th>1</th>\n",
       "      <td>31</td>\n",
       "      <td>[(207, 34.74746322631836), (203, 29.515464782714844), (185, 24.498666763305664), (84, 24.001625061035156), (175, 23.372262954711914), (107, 21.145418167114258), (166, 16.814014434814453), (248, 16.341184616088867), (253, 15.40349006652832), (205, 15.32844352722168)]</td>\n",
       "    </tr>\n",
       "    <tr>\n",
       "      <th>2</th>\n",
       "      <td>85</td>\n",
       "      <td>[(84, 42.55365753173828), (77, 24.728513717651367), (136, 23.978504180908203), (19, 23.709383010864258), (185, 23.596229553222656), (258, 23.30413055419922), (203, 23.22675323486328), (209, 22.25408935546875), (205, 20.89915657043457), (26, 20.5033016204834)]</td>\n",
       "    </tr>\n",
       "    <tr>\n",
       "      <th>3</th>\n",
       "      <td>137</td>\n",
       "      <td>[(155, 41.311981201171875), (258, 22.218164443969727), (136, 20.006208419799805), (178, 19.818944931030273), (195, 16.223234176635742), (121, 14.259716987609863), (250, 13.503952026367188), (38, 13.132500648498535), (84, 12.610593795776367), (19, 12.205896377563477)]</td>\n",
       "    </tr>\n",
       "    <tr>\n",
       "      <th>4</th>\n",
       "      <td>65</td>\n",
       "      <td>[(203, 41.614173889160156), (185, 32.86777114868164), (175, 32.07512664794922), (84, 31.291915893554688), (155, 26.088815689086914), (207, 24.46644401550293), (258, 24.45218849182129), (205, 22.0623836517334), (260, 21.331689834594727), (253, 19.051687240600586)]</td>\n",
       "    </tr>\n",
       "    <tr>\n",
       "      <th>5</th>\n",
       "      <td>53</td>\n",
       "      <td>[(207, 45.243717193603516), (203, 39.237579345703125), (107, 34.3674201965332), (185, 32.20622634887695), (84, 31.544376373291016), (175, 24.932315826416016), (166, 23.75750732421875), (205, 22.350461959838867), (248, 20.43204689025879), (155, 19.034744262695312)]</td>\n",
       "    </tr>\n",
       "    <tr>\n",
       "      <th>6</th>\n",
       "      <td>133</td>\n",
       "      <td>[(155, 39.132598876953125), (258, 31.94054412841797), (256, 19.752967834472656), (61, 19.264009475708008), (19, 18.96949577331543), (100, 16.08561897277832), (136, 15.490361213684082), (12, 14.685985565185547), (178, 14.305537223815918), (177, 13.406991004943848)]</td>\n",
       "    </tr>\n",
       "    <tr>\n",
       "      <th>7</th>\n",
       "      <td>78</td>\n",
       "      <td>[(207, 43.34546661376953), (61, 30.392776489257812), (258, 28.652931213378906), (166, 27.312915802001953), (155, 24.699382781982422), (136, 21.705585479736328), (203, 20.940933227539062), (248, 20.515445709228516), (177, 19.257081985473633), (100, 17.114490509033203)]</td>\n",
       "    </tr>\n",
       "    <tr>\n",
       "      <th>8</th>\n",
       "      <td>108</td>\n",
       "      <td>[(258, 47.372093200683594), (155, 45.57164764404297), (203, 40.554622650146484), (177, 33.66419219970703), (248, 29.076467514038086), (216, 22.26336097717285), (108, 21.43865203857422), (207, 21.126998901367188), (38, 21.101825714111328), (253, 20.68408203125)]</td>\n",
       "    </tr>\n",
       "    <tr>\n",
       "      <th>9</th>\n",
       "      <td>34</td>\n",
       "      <td>[(155, 65.23779296875), (258, 46.484519958496094), (136, 30.652894973754883), (177, 30.028345108032227), (178, 28.22173500061035), (75, 26.208759307861328), (256, 26.199298858642578), (19, 22.53771209716797), (150, 21.42724609375), (100, 20.803150177001953)]</td>\n",
       "    </tr>\n",
       "  </tbody>\n",
       "</table>\n",
       "</div>"
      ],
      "text/plain": [
       "   jokeid  \\\n",
       "0  148      \n",
       "1  31       \n",
       "2  85       \n",
       "3  137      \n",
       "4  65       \n",
       "5  53       \n",
       "6  133      \n",
       "7  78       \n",
       "8  108      \n",
       "9  34       \n",
       "\n",
       "                                                                                                                                                                                                                                                                recommendations  \n",
       "0  [(84, 31.883636474609375), (203, 28.840511322021484), (155, 23.952516555786133), (121, 20.91714859008789), (250, 18.80213165283203), (136, 18.156707763671875), (185, 18.147274017333984), (258, 17.760921478271484), (248, 15.642515182495117), (38, 15.021276473999023)]    \n",
       "1  [(207, 34.74746322631836), (203, 29.515464782714844), (185, 24.498666763305664), (84, 24.001625061035156), (175, 23.372262954711914), (107, 21.145418167114258), (166, 16.814014434814453), (248, 16.341184616088867), (253, 15.40349006652832), (205, 15.32844352722168)]    \n",
       "2  [(84, 42.55365753173828), (77, 24.728513717651367), (136, 23.978504180908203), (19, 23.709383010864258), (185, 23.596229553222656), (258, 23.30413055419922), (203, 23.22675323486328), (209, 22.25408935546875), (205, 20.89915657043457), (26, 20.5033016204834)]           \n",
       "3  [(155, 41.311981201171875), (258, 22.218164443969727), (136, 20.006208419799805), (178, 19.818944931030273), (195, 16.223234176635742), (121, 14.259716987609863), (250, 13.503952026367188), (38, 13.132500648498535), (84, 12.610593795776367), (19, 12.205896377563477)]   \n",
       "4  [(203, 41.614173889160156), (185, 32.86777114868164), (175, 32.07512664794922), (84, 31.291915893554688), (155, 26.088815689086914), (207, 24.46644401550293), (258, 24.45218849182129), (205, 22.0623836517334), (260, 21.331689834594727), (253, 19.051687240600586)]       \n",
       "5  [(207, 45.243717193603516), (203, 39.237579345703125), (107, 34.3674201965332), (185, 32.20622634887695), (84, 31.544376373291016), (175, 24.932315826416016), (166, 23.75750732421875), (205, 22.350461959838867), (248, 20.43204689025879), (155, 19.034744262695312)]      \n",
       "6  [(155, 39.132598876953125), (258, 31.94054412841797), (256, 19.752967834472656), (61, 19.264009475708008), (19, 18.96949577331543), (100, 16.08561897277832), (136, 15.490361213684082), (12, 14.685985565185547), (178, 14.305537223815918), (177, 13.406991004943848)]      \n",
       "7  [(207, 43.34546661376953), (61, 30.392776489257812), (258, 28.652931213378906), (166, 27.312915802001953), (155, 24.699382781982422), (136, 21.705585479736328), (203, 20.940933227539062), (248, 20.515445709228516), (177, 19.257081985473633), (100, 17.114490509033203)]  \n",
       "8  [(258, 47.372093200683594), (155, 45.57164764404297), (203, 40.554622650146484), (177, 33.66419219970703), (248, 29.076467514038086), (216, 22.26336097717285), (108, 21.43865203857422), (207, 21.126998901367188), (38, 21.101825714111328), (253, 20.68408203125)]         \n",
       "9  [(155, 65.23779296875), (258, 46.484519958496094), (136, 30.652894973754883), (177, 30.028345108032227), (178, 28.22173500061035), (75, 26.208759307861328), (256, 26.199298858642578), (19, 22.53771209716797), (150, 21.42724609375), (100, 20.803150177001953)]            "
      ]
     },
     "metadata": {},
     "output_type": "display_data"
    }
   ],
   "source": [
    "# Evaluate the model by computing the RMSE on the test data\n",
    "predictions = model.transform(testing_df)\n",
    "evaluator = RegressionEvaluator(metricName=\"rmse\", labelCol=\"rating\",\n",
    "                                predictionCol=\"prediction\")\n",
    "rmse = evaluator.evaluate(predictions)\n",
    "print(\"Root-mean-square error = \" + str(rmse))\n",
    "\n",
    "# Generate top 10 joke recommendations for each user\n",
    "userRecs = model.recommendForAllUsers(10)\n",
    "\n",
    "showDF(userRecs)\n",
    "\n",
    "# Generate top 10 user recommendations for each joke\n",
    "jokeRecs = model.recommendForAllItems(10)\n",
    "\n",
    "showDF(jokeRecs)\n"
   ]
  },
  {
   "cell_type": "code",
   "execution_count": 16,
   "metadata": {},
   "outputs": [
    {
     "data": {
      "text/html": [
       "<div>\n",
       "<style scoped>\n",
       "    .dataframe tbody tr th:only-of-type {\n",
       "        vertical-align: middle;\n",
       "    }\n",
       "\n",
       "    .dataframe tbody tr th {\n",
       "        vertical-align: top;\n",
       "    }\n",
       "\n",
       "    .dataframe thead th {\n",
       "        text-align: right;\n",
       "    }\n",
       "</style>\n",
       "<table border=\"1\" class=\"dataframe\">\n",
       "  <thead>\n",
       "    <tr style=\"text-align: right;\">\n",
       "      <th></th>\n",
       "      <th>userid</th>\n",
       "      <th>recommendations</th>\n",
       "    </tr>\n",
       "  </thead>\n",
       "  <tbody>\n",
       "    <tr>\n",
       "      <th>0</th>\n",
       "      <td>65</td>\n",
       "      <td>[(145, 14.56903076171875), (43, 11.844061851501465), (79, 11.283380508422852), (80, 11.234314918518066), (94, 11.042588233947754), (73, 10.83102035522461), (137, 10.767558097839355), (38, 10.715609550476074), (82, 10.636094093322754), (40, 10.619543075561523)]</td>\n",
       "    </tr>\n",
       "  </tbody>\n",
       "</table>\n",
       "</div>"
      ],
      "text/plain": [
       "   userid  \\\n",
       "0  65       \n",
       "\n",
       "                                                                                                                                                                                                                                                        recommendations  \n",
       "0  [(145, 14.56903076171875), (43, 11.844061851501465), (79, 11.283380508422852), (80, 11.234314918518066), (94, 11.042588233947754), (73, 10.83102035522461), (137, 10.767558097839355), (38, 10.715609550476074), (82, 10.636094093322754), (40, 10.619543075561523)]  "
      ]
     },
     "metadata": {},
     "output_type": "display_data"
    }
   ],
   "source": [
    "showDF(userRecs.filter(userRecs.userid == 65))"
   ]
  },
  {
   "cell_type": "code",
   "execution_count": 17,
   "metadata": {},
   "outputs": [
    {
     "data": {
      "text/html": [
       "\n",
       "        <iframe\n",
       "            width=\"700\"\n",
       "            height=\"200\"\n",
       "            src=\"images/init94.html\"\n",
       "            frameborder=\"0\"\n",
       "            allowfullscreen\n",
       "        ></iframe>\n",
       "        "
      ],
      "text/plain": [
       "<IPython.lib.display.IFrame at 0x1187e2dd8>"
      ]
     },
     "execution_count": 17,
     "metadata": {},
     "output_type": "execute_result"
    }
   ],
   "source": [
    "IFrame(src='images/init94.html', width=700, height=200)"
   ]
  },
  {
   "cell_type": "code",
   "execution_count": 18,
   "metadata": {},
   "outputs": [
    {
     "data": {
      "text/html": [
       "\n",
       "        <iframe\n",
       "            width=\"700\"\n",
       "            height=\"200\"\n",
       "            src=\"images/init43.html\"\n",
       "            frameborder=\"0\"\n",
       "            allowfullscreen\n",
       "        ></iframe>\n",
       "        "
      ],
      "text/plain": [
       "<IPython.lib.display.IFrame at 0x118809668>"
      ]
     },
     "execution_count": 18,
     "metadata": {},
     "output_type": "execute_result"
    }
   ],
   "source": [
    "IFrame(src='images/init43.html', width=700, height=200)"
   ]
  },
  {
   "cell_type": "code",
   "execution_count": 19,
   "metadata": {},
   "outputs": [
    {
     "data": {
      "text/plain": [
       "<cassandra.cluster.ResultSet at 0x1173c1eb8>"
      ]
     },
     "execution_count": 19,
     "metadata": {},
     "output_type": "execute_result"
    }
   ],
   "source": [
    "session.execute(\"\"\"drop table jokes_table1\"\"\")"
   ]
  }
 ],
 "metadata": {
  "kernelspec": {
   "display_name": "Python 3",
   "language": "python",
   "name": "python3"
  },
  "language_info": {
   "codemirror_mode": {
    "name": "ipython",
    "version": 3
   },
   "file_extension": ".py",
   "mimetype": "text/x-python",
   "name": "python",
   "nbconvert_exporter": "python",
   "pygments_lexer": "ipython3",
   "version": "3.7.1"
  }
 },
 "nbformat": 4,
 "nbformat_minor": 2
}
